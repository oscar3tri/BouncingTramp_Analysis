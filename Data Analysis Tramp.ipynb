{
 "cells": [
  {
   "cell_type": "markdown",
   "metadata": {},
   "source": [
    "# A/B Test for BouncingTramp\n",
    "\n",
    "The following script analyzes the user's experience for two versions of BouncingTramp, which was an Exergame designed to be implemented on the Interactive Trampolines of LimaCode (http://limacodeplay.com/).\n",
    "With Exergame, I'm referring to those active video-games that intentionally demand intense physical effort using Full-Body Interfaces.\n",
    "The design and development of Exergames is a complex issue that requires the consultation of the previous designs of Exertion Interfaces, and research areas such as Full-body Interaction, Engagement theories or Design methods. If you are interested in getting into the theoretical part that supported this project, I would suggest you take a look at my Master Thesis document ().\n",
    "\n",
    "To get a clearer idea about how BouncingTramp looks like, here you can see a video of me playing it: https://www.youtube.com/watch?v=ShMg41sUu_Q\n",
    "\n",
    "Previously, the prefered movements of target users of trampolines were analyzed. Thus, two versions of BouncingTramp were developed with the single difference of the movements (jumps) implemented to control de video-game:\n",
    "* Low Floor version. The game was controlled by performing the most frequent and natural movements for the users.\n",
    "* High Ceiling version. The game was controlled by performing the most unusual and unnatural movements for the users.\n",
    "\n",
    "Along this script, the results of the performance of the users (measure through their game score) and the values provided by filling out an Experience Questionnaire, are analyzing with the purpose of finding correct levels of challenging for different levels of expertise.\n"
   ]
  },
  {
   "cell_type": "markdown",
   "metadata": {},
   "source": [
    "### Importing Libraries"
   ]
  },
  {
   "cell_type": "code",
   "execution_count": 1,
   "metadata": {},
   "outputs": [],
   "source": [
    "import numpy as np\n",
    "from statsmodels.stats.weightstats import ttest_ind\n",
    "from scipy.stats import mannwhitneyu as utest\n",
    "from scipy.stats import shapiro\n",
    "import matplotlib.pyplot as plt\n",
    "import seaborn as sns"
   ]
  },
  {
   "cell_type": "markdown",
   "metadata": {},
   "source": [
    "### Experience Questionnaire Values\n",
    "\n",
    "Each of the participants played one single version of BouncingTramp, either Low Floor (group A) or High Ceiling (group B).\n",
    "After playing the Exergame for 6 minutes, the participants filled out an Experience Questionnaire with 6 dimensions:\n",
    "* Game Experience.\n",
    "* Tiredness.\n",
    "* Immersion.\n",
    "* Competency.\n",
    "* Difficulty.\n",
    "* Positive Experience.\n",
    "* Negative Experience.\n",
    "\n",
    "In the next cells are represented as the mean for each of these dimensions in each of the participants."
   ]
  },
  {
   "cell_type": "code",
   "execution_count": 2,
   "metadata": {},
   "outputs": [],
   "source": [
    "#GROUP A Dimmensions (Low Floor)\n",
    "\n",
    "mGameExpA = 4, 4.125, 2.875, 4.625, 4.5, 4, 3.625, 3.75, 3.75, 4.5, 4.75, 4, 4.625, 4.125, 3.25\n",
    "mTirednessA = 1.75, 3.75, 3, 1.75, 3.5, 3.5, 2.75, 1.75, 3.5, 1, 1.75, 2.75, 2.25, 3.75, 3\n",
    "mImmersionA = 3.25, 3.25, 4.25, 5, 4.25, 3.75, 3.5, 3, 3.5, 4, 4.75, 3, 5, 4.25, 3.5\n",
    "mCompetencyA = 3.25, 2.25, 2, 5, 3.75, 3, 2.75, 2.5, 4, 5, 4, 2.75, 4, 5, 2.25\n",
    "mDifficultyA = 3.5, 2, 3.25, 3.25, 3.5, 2.75, 3, 1.75, 3.25, 3.5, 3.25, 2.75, 2, 3.25, 3.25\n",
    "mPosExpA = 3.75, 3.25, 3, 5, 4.5, 3.5, 4, 3.25, 4, 5, 4.5, 3.75, 5, 5, 3\n",
    "mNegExpA = 2, 1.75, 2.5, 1, 1.25, 1.5, 1.5, 2, 1, 1, 1, 1, 1, 1, 2"
   ]
  },
  {
   "cell_type": "code",
   "execution_count": 3,
   "metadata": {},
   "outputs": [],
   "source": [
    "#GROUP B Dimmensions (High Ceiling)\n",
    "\n",
    "mGameExpB = 3.5, 3.75, 3.75, 3.5, 3.25, 3.125, 3.875, 3.625, 4.125, 4.375, 4.25, 3.25, 3.875, 3.375, 3.875\n",
    "mTirednessB = 3.75, 3, 3.75, 3.25, 3.75, 3.5, 3.5, 1.5, 3, 3.5, 2.5, 2.75, 4, 3.25, 4\n",
    "mImmersionB = 4.25, 4.5, 3.5, 3.75, 4.25, 4, 3.75, 3.25, 3, 3.75, 4, 3.5, 3.25, 3.25, 4.25\n",
    "mCompetencyB = 1.75, 3, 3.5, 3.75, 3.75, 2, 3.75, 3.5, 3.25, 4.25, 3.25, 2.75, 2.75, 2.5, 2.75\n",
    "mDifficultyB = 4.25, 4.25, 3, 4, 4, 3, 3.25, 2.75, 3.25, 3.75, 3, 3.5, 2.75, 2.75, 3\n",
    "mPosExpB = 4, 3.5, 4, 4.25, 3.75, 3, 3.5, 4, 4, 4.25, 4.25, 3, 2.5, 3.25, 4.25\n",
    "mNegExpB = 2, 1.25, 2, 2.25, 2.5, 2.5, 3, 1, 1.75, 2, 2, 2.25, 2, 1.75, 1.75"
   ]
  },
  {
   "cell_type": "markdown",
   "metadata": {},
   "source": [
    "### Normality tests\n",
    "\n",
    "Shapiro test is applied to pick appropriately the statistic test with which find significant differences between groups of dimensions. While the dimension analyzed does not present Normal Distribution in both of the groups, a non-parametric test should be used. On the other hand, if both groups present normality in their distribution for a given dimension, a parametric test would be used.\n",
    "\n",
    "The statistic value used to settle normality is p-value, the second value provided by the Shapiro test. If this value is lower than .05, the distribution is understood as normal.\n",
    "\n",
    "We can see that only the dimension Difficulty present normality in both groups."
   ]
  },
  {
   "cell_type": "code",
   "execution_count": 4,
   "metadata": {},
   "outputs": [
    {
     "name": "stdout",
     "output_type": "stream",
     "text": [
      "Game experience A: (0.9410890936851501, 0.3962627649307251)\n",
      "Game experience B: (0.9643701910972595, 0.7677558660507202)\n",
      "\n",
      "Tiredness A: (0.9078971147537231, 0.12572045624256134)\n",
      "Tiredness B: (0.879422664642334, 0.046513881534338)\n",
      "\n",
      "Inmersión A: (0.9202250242233276, 0.19416233897209167)\n",
      "Inmersión B: (0.9492858052253723, 0.5132736563682556)\n",
      "\n",
      "Competency A: (0.9105755090713501, 0.13818958401679993)\n",
      "Competency B: (0.9625332951545715, 0.7363242506980896)\n",
      "\n",
      "Difficulty A: (0.8002101182937622, 0.0036991722881793976)\n",
      "Difficulty B: (0.8748720288276672, 0.03980911523103714)\n",
      "\n",
      "Positive Experience A: (0.8921148180961609, 0.07219135016202927)\n",
      "Positive Experience B: (0.8772931098937988, 0.043240178376436234)\n",
      "\n",
      "Negative Experience A: (0.8195011019706726, 0.006614662706851959)\n",
      "Negative Experience B: (0.9514906406402588, 0.5482284426689148)\n"
     ]
    }
   ],
   "source": [
    "# Normality tests\n",
    "\n",
    "normalityGameExpA = shapiro(mGameExpA)\n",
    "normalityGameExpB = shapiro(mGameExpB)\n",
    "normalityTirednessA = shapiro(mTirednessA)\n",
    "normalityTirednessB = shapiro(mTirednessB)\n",
    "normalityImmersionA = shapiro(mImmersionA)\n",
    "normalityImmersionB = shapiro(mImmersionB)\n",
    "normalityCompetencyA = shapiro(mCompetencyA)\n",
    "normalityCompetencyB = shapiro(mCompetencyB)\n",
    "normalityDifficultyA = shapiro(mDifficultyA)\n",
    "normalityDifficultyB = shapiro(mDifficultyB)\n",
    "normalityPosExpA = shapiro(mPosExpA)\n",
    "normalityPosExpB = shapiro(mPosExpB)\n",
    "normalityNegExpA = shapiro(mNegExpA)\n",
    "normalityNegExpB = shapiro(mNegExpB)\n",
    "\n",
    "print(\"Game experience A: \" + str(normalityGameExpA))\n",
    "print(\"Game experience B: \" + str(normalityGameExpB) + \"\\n\")\n",
    "print(\"Tiredness A: \" + str(normalityTirednessA))\n",
    "print(\"Tiredness B: \" + str(normalityTirednessB) + \"\\n\")\n",
    "print(\"Inmersión A: \" + str(normalityImmersionA))\n",
    "print(\"Inmersión B: \" + str(normalityImmersionB) + \"\\n\")\n",
    "print(\"Competency A: \" + str(normalityCompetencyA))\n",
    "print(\"Competency B: \" + str(normalityCompetencyB) + \"\\n\")\n",
    "print(\"Difficulty A: \" + str(normalityDifficultyA))\n",
    "print(\"Difficulty B: \" + str(normalityDifficultyB) + \"\\n\")\n",
    "print(\"Positive Experience A: \" + str(normalityPosExpA))\n",
    "print(\"Positive Experience B: \" + str(normalityPosExpB) + \"\\n\")\n",
    "print(\"Negative Experience A: \" + str(normalityNegExpA))\n",
    "print(\"Negative Experience B: \" + str(normalityNegExpB))\n",
    "\n",
    "# return(test statistic, p-value)"
   ]
  },
  {
   "cell_type": "markdown",
   "metadata": {},
   "source": [
    "##### Only Difficulty shows normality in both groups, Low Floor and High Ceiling."
   ]
  },
  {
   "cell_type": "markdown",
   "metadata": {},
   "source": [
    "### Mann-whitney U test y T-test\n",
    "\n",
    "At first glance, we could say that those participants who played the Low Floor version filled out the questionnaire providing different values than the High Ceiling group. But, is that difference significant?\n",
    "\n",
    "In order to compare the mean of both groups, an independent T-test will be applied in the dimension Difficulty, since this dimension shows normality and T-test is parametric. However, for the rest of the dimensions will be applied the non-parametric version of the independent T-test, the Mann-Whitney U test.\n",
    "\n",
    "Once again, the statistic checked is the p-value. Here, if the p-value is lower than .05 the difference between groups for a given dimension is considered as significant.\n",
    "\n",
    "Our results show significant differences in the dimensions Game Experience, Tiredness, and Negative Experience. Moreover, Difficulty shows a trend to be significantly different."
   ]
  },
  {
   "cell_type": "code",
   "execution_count": 5,
   "metadata": {},
   "outputs": [],
   "source": [
    "# Mann-whitney U and T Test\n",
    "\n",
    "utestGameExp = utest(mGameExpA, mGameExpB)\n",
    "utestTiredness = utest(mTirednessA, mTirednessB)\n",
    "utestImmersion = utest(mImmersionA, mImmersionB)\n",
    "utestCompetency = utest(mCompetencyA, mCompetencyB)\n",
    "ttestDifficulty = ttest_ind(mDifficultyA, mDifficultyB)\n",
    "utestPosExp = utest(mPosExpA, mPosExpB)\n",
    "utestNegExp = utest(mNegExpA, mNegExpB)"
   ]
  },
  {
   "cell_type": "code",
   "execution_count": 6,
   "metadata": {
    "scrolled": false
   },
   "outputs": [
    {
     "name": "stdout",
     "output_type": "stream",
     "text": [
      "Game Experience: MannwhitneyuResult(statistic=64.5, pvalue=0.02403121736498842)\n",
      "Tiredness: MannwhitneyuResult(statistic=66.5, pvalue=0.028423227235793665)\n",
      "Inmersión: MannwhitneyuResult(statistic=104.0, pvalue=0.36868072747569286)\n",
      "Competency: MannwhitneyuResult(statistic=94.0, pvalue=0.22646495941300476)\n",
      "Difficulty: (-2.0117600598457006, 0.05395795779291821, 28.0)\n",
      "Positive Experience: MannwhitneyuResult(statistic=88.0, pvalue=0.15763515507629128)\n",
      "Negative Experience: MannwhitneyuResult(statistic=48.0, pvalue=0.0033543352691757272)\n"
     ]
    }
   ],
   "source": [
    "print(\"Game Experience: \" + str(utestGameExp))\n",
    "print(\"Tiredness: \" + str(utestTiredness))\n",
    "print(\"Inmersión: \" + str(utestImmersion))\n",
    "print(\"Competency: \" + str(utestCompetency))\n",
    "print(\"Difficulty: \" + str(ttestDifficulty))\n",
    "print(\"Positive Experience: \" + str(utestPosExp))\n",
    "print(\"Negative Experience: \" + str(utestNegExp))"
   ]
  },
  {
   "cell_type": "markdown",
   "metadata": {},
   "source": [
    "### Boxplots for Dimensions significantly differents\n",
    "\n",
    "To provide a better insight about those dimensions that show a significant difference, boxplots have been deployed.\n",
    "\n",
    "Take into account that the orange line drawn in the box represents the median. Because of that, the mean for each of the groups is commented above the boxplots."
   ]
  },
  {
   "cell_type": "markdown",
   "metadata": {},
   "source": [
    "##### Game Experience"
   ]
  },
  {
   "cell_type": "code",
   "execution_count": 7,
   "metadata": {
    "scrolled": false
   },
   "outputs": [
    {
     "name": "stdout",
     "output_type": "stream",
     "text": [
      "Game experince mean in Low Floor:    4.033333333333333\n",
      "Game experince mean in High Ceiling: 3.7\n"
     ]
    },
    {
     "data": {
      "image/png": "[encoded data removed]",
      "text/plain": [
       "<Figure size 432x288 with 1 Axes>"
      ]
     },
     "metadata": {
      "needs_background": "light"
     },
     "output_type": "display_data"
    }
   ],
   "source": [
    "uGameExp = [mGameExpA, mGameExpB]\n",
    "box=plt.boxplot(uGameExp, patch_artist = True)\n",
    "plt.xticks([1,2], [\"Low Floor\", \"High Ceiling\"])\n",
    "plt.title(\"Game Experience\", weight = \"bold\").set_fontsize(\"18\")\n",
    "plt.ylabel(\"Mean Score\").set_fontsize(\"14\")\n",
    "\n",
    "colors = ['yellowgreen', 'firebrick']\n",
    "for patch, color in zip(box['boxes'], colors):\n",
    "    patch.set_facecolor(color)\n",
    "    \n",
    "#plt.savefig('Game Experience.png')\n",
    "    \n",
    "print(\"Game experince mean in Low Floor:    \" + str(np.mean(mGameExpA)))\n",
    "print(\"Game experince mean in High Ceiling: \" + str(np.mean(mGameExpB)))"
   ]
  },
  {
   "cell_type": "markdown",
   "metadata": {},
   "source": [
    "##### Tiredness"
   ]
  },
  {
   "cell_type": "code",
   "execution_count": 8,
   "metadata": {},
   "outputs": [
    {
     "name": "stdout",
     "output_type": "stream",
     "text": [
      "Tiredness mean in Low Floor:    2.65\n",
      "Tiredness mean in High Ceiling: 3.2666666666666666\n"
     ]
    },
    {
     "data": {
      "image/png": "[encoded data removed]",
      "text/plain": [
       "<Figure size 432x288 with 1 Axes>"
      ]
     },
     "metadata": {
      "needs_background": "light"
     },
     "output_type": "display_data"
    }
   ],
   "source": [
    "tTiredness = [mTirednessA, mTirednessB]\n",
    "box=plt.boxplot(tTiredness, patch_artist = True)\n",
    "plt.xticks([1,2], [\"Low Floor\", \"High Ceiling\"])\n",
    "plt.title(\"Tiredness\", weight = \"bold\").set_fontsize(\"18\")\n",
    "plt.ylabel(\"Mean Value\").set_fontsize(\"14\")\n",
    "\n",
    "colors = ['yellowgreen', 'firebrick']\n",
    "for patch, color in zip(box['boxes'], colors):\n",
    "    patch.set_facecolor(color)\n",
    "    \n",
    "#plt.savefig('Tiredness.png')\n",
    "\n",
    "print(\"Tiredness mean in Low Floor:    \" + str(np.mean(mTirednessA)))\n",
    "print(\"Tiredness mean in High Ceiling: \" + str(np.mean(mTirednessB)))"
   ]
  },
  {
   "cell_type": "markdown",
   "metadata": {},
   "source": [
    "##### Difficulty (Trend)"
   ]
  },
  {
   "cell_type": "code",
   "execution_count": 9,
   "metadata": {},
   "outputs": [
    {
     "name": "stdout",
     "output_type": "stream",
     "text": [
      "Difficulty mean in Low Floor:    2.95\n",
      "Difficulty mean in High Ceiling: 3.3666666666666667\n"
     ]
    },
    {
     "data": {
      "image/png": "[encoded data removed]",
      "text/plain": [
       "<Figure size 432x288 with 1 Axes>"
      ]
     },
     "metadata": {
      "needs_background": "light"
     },
     "output_type": "display_data"
    }
   ],
   "source": [
    "uDifficulty = [mDifficultyA, mDifficultyB]\n",
    "box=plt.boxplot(uDifficulty, patch_artist = True)\n",
    "plt.xticks([1,2], [\"Low Floor\", \"High Ceiling\"])\n",
    "plt.title(\"Difficulty (Trend)\", weight = \"bold\").set_fontsize(\"18\")\n",
    "plt.ylabel(\"Mean Value\").set_fontsize(\"14\")\n",
    "\n",
    "colors = ['yellowgreen', 'firebrick']\n",
    "for patch, color in zip(box['boxes'], colors):\n",
    "    patch.set_facecolor(color)\n",
    "\n",
    "#plt.savefig('Difficulty.png')\n",
    "    \n",
    "print(\"Difficulty mean in Low Floor:    \" + str(np.mean(mDifficultyA)))\n",
    "print(\"Difficulty mean in High Ceiling: \" + str(np.mean(mDifficultyB)))"
   ]
  },
  {
   "cell_type": "markdown",
   "metadata": {},
   "source": [
    "##### Negative Experience"
   ]
  },
  {
   "cell_type": "code",
   "execution_count": 10,
   "metadata": {},
   "outputs": [
    {
     "name": "stdout",
     "output_type": "stream",
     "text": [
      "Negative Experience mean in Low Floor:    1.4333333333333333\n",
      "Negative Experience mean in High Ceiling: 2.0\n"
     ]
    },
    {
     "data": {
      "image/png": "[encoded data removed]",
      "text/plain": [
       "<Figure size 432x288 with 1 Axes>"
      ]
     },
     "metadata": {
      "needs_background": "light"
     },
     "output_type": "display_data"
    }
   ],
   "source": [
    "uNegExp = [mNegExpA, mNegExpB]\n",
    "box=plt.boxplot(uNegExp, patch_artist = True)\n",
    "plt.xticks([1,2], [\"Low Floor\", \"High Ceiling\"])\n",
    "plt.title(\"Negative Experience\", weight = \"bold\").set_fontsize(\"18\")\n",
    "plt.ylabel(\"Mean Value\").set_fontsize(\"14\")\n",
    "\n",
    "colors = ['yellowgreen', 'firebrick']\n",
    "for patch, color in zip(box['boxes'], colors):\n",
    "    patch.set_facecolor(color)\n",
    "\n",
    "#plt.savefig('Negative Experience.png')\n",
    "    \n",
    "print(\"Negative Experience mean in Low Floor:    \" + str(np.mean(mNegExpA)))\n",
    "print(\"Negative Experience mean in High Ceiling: \" + str(np.mean(mNegExpB)))"
   ]
  },
  {
   "cell_type": "markdown",
   "metadata": {},
   "source": [
    "### Experience Questionnaire Conclusion\n",
    "\n",
    "In short, the percepción of the users match with we were expecting. These participants are not very expertise users, therefore they prefer the Low Floor version of BouncingTramp, since this version represents an adequate entry-level for them. They perceive as more difficult and more demanding the High Ceiling version. Moreover, participants in the High Ceiling version perceive the Exergame as working worse.\n",
    "\n",
    "Let's see other more objective measures, such as the time spent and the score reached in each of the trials. Once again, before analyze if the difference is significant, Shapiro test will be applied to select the proper test."
   ]
  },
  {
   "cell_type": "markdown",
   "metadata": {},
   "source": [
    "# Game Time"
   ]
  },
  {
   "cell_type": "code",
   "execution_count": 11,
   "metadata": {},
   "outputs": [
    {
     "name": "stdout",
     "output_type": "stream",
     "text": [
      "Game Time Group A: (0.8795434236526489, 0.04670707508921623)\n",
      "Game Time Group B: (0.9424691796302795, 0.4144359827041626)\n"
     ]
    }
   ],
   "source": [
    "# Game Time\n",
    "\n",
    "TimeA = 24.25, 21.4, 15.8, 19.5, 26.61538462, 16.5, 24.75, 14.66666667, 15.4375, 35.55555556, 20.75, 15.0625, 27.42857143, 43.55555556, 12.78947368\n",
    "TimeB = 10.55555556, 18.94444444, 17.4375, 20.85714286, 31.16666667, 25.25, 17.4375, 12, 29.66666667, 29.16666667, 13.625, 23.84615385, 17.0625, 19.57142857, 28.75\n",
    "\n",
    "normalityTimeA = shapiro(TimeA)\n",
    "normalityTimeB = shapiro(TimeB)\n",
    "\n",
    "print(\"Game Time Group A: \" + str(normalityTimeA))\n",
    "print(\"Game Time Group B: \" + str(normalityTimeB))"
   ]
  },
  {
   "cell_type": "code",
   "execution_count": 12,
   "metadata": {
    "scrolled": true
   },
   "outputs": [
    {
     "name": "stdout",
     "output_type": "stream",
     "text": [
      "Game Time: MannwhitneyuResult(statistic=112.0, pvalue=0.5)\n"
     ]
    }
   ],
   "source": [
    "utestTime = utest(TimeA, TimeB)\n",
    "print(\"Game Time: \" + str(utestTime))"
   ]
  },
  {
   "cell_type": "markdown",
   "metadata": {},
   "source": [
    "# Score"
   ]
  },
  {
   "cell_type": "code",
   "execution_count": 13,
   "metadata": {},
   "outputs": [
    {
     "name": "stdout",
     "output_type": "stream",
     "text": [
      "Score Grupo A: (0.909282922744751, 0.13202422857284546)\n",
      "Score Grupo B: (0.9104892611503601, 0.13776934146881104)\n"
     ]
    }
   ],
   "source": [
    "# Score\n",
    "\n",
    "ScoreA = 30, 22.33333333, 3.333333333, 9.285714286, 16.15384615, 11.42857143, 14.0625, 7.777777778, 3.75, 40.55555556, 19.16666667, 1.5625, 15.71428571, 37.22222222, 6.052631579\n",
    "ScoreB = 2.5, 9.444444444, 3.4375, 8.214285714, 15.41666667, 8.333333333, 13.75, 2.941176471, 23.75, 9.166666667, 5.625, 18.84615385, 4.6875, 12.14285714, 26.66666667\n",
    "\n",
    "normalityScoreA = shapiro(ScoreA)\n",
    "normalityScoreB = shapiro(ScoreB)\n",
    "\n",
    "print(\"Score Grupo A: \" + str(normalityScoreA))\n",
    "print(\"Score Grupo B: \" + str(normalityScoreB))"
   ]
  },
  {
   "cell_type": "code",
   "execution_count": 14,
   "metadata": {
    "scrolled": true
   },
   "outputs": [
    {
     "name": "stdout",
     "output_type": "stream",
     "text": [
      "Score: MannwhitneyuResult(statistic=87.0, pvalue=0.14987918504435754)\n"
     ]
    }
   ],
   "source": [
    "utestScore = utest(ScoreA, ScoreB)\n",
    "print(\"Score: \" + str(utestScore))"
   ]
  },
  {
   "cell_type": "code",
   "execution_count": 15,
   "metadata": {},
   "outputs": [
    {
     "data": {
      "image/png": "[encoded data removed]",
      "text/plain": [
       "<Figure size 432x288 with 1 Axes>"
      ]
     },
     "metadata": {
      "needs_background": "light"
     },
     "output_type": "display_data"
    }
   ],
   "source": [
    "uScore = [ScoreA, ScoreB]\n",
    "box=plt.boxplot(uScore, patch_artist=True)\n",
    "plt.xticks([1,2], [\"Low Floor\", \"High Ceiling\"])\n",
    "plt.title(\"Game Score\", weight = \"bold\").set_fontsize(\"18\")\n",
    "plt.ylabel(\"Mean Score\").set_fontsize(\"14\")\n",
    "\n",
    "colors = ['yellowgreen', 'firebrick']\n",
    "for patch, color in zip(box['boxes'], colors):\n",
    "    patch.set_facecolor(color)"
   ]
  },
  {
   "cell_type": "markdown",
   "metadata": {},
   "source": [
    "### Game Time and Score Conclusion\n",
    "\n",
    "Contrary to our expectancy, the time spent in the trials and the score reached does not differ between the two versions. However, we should have into account that during the 6 minutes playing BouncinTramp in any of its versions, externals variables such as tiredness or practice might be interfering.\n",
    "Because of that, we decided to analyze the effect of the practice by dividing the number of trials in thirds. Thus, we can compare segments intra and inter-groups."
   ]
  },
  {
   "cell_type": "markdown",
   "metadata": {},
   "source": [
    "# Practice\n",
    "\n",
    "To analyze the practice effect, a global performance score will be defined. This score represents the mean score for a given segment in each of the participants."
   ]
  },
  {
   "cell_type": "markdown",
   "metadata": {},
   "source": [
    "### Grupo A (Low Floor)"
   ]
  },
  {
   "cell_type": "code",
   "execution_count": 16,
   "metadata": {},
   "outputs": [],
   "source": [
    "ScoreA = np.array([[15, 15, 5, 45, 15, 25, 15, 10, 15, 25, 110, 65],\n",
    "                  [15, 25, 25, 0, 15, 25, 10, 10, 10, 60, 15, 0, 10, 50, 65],\n",
    "                  [10, 10, 0, 0, 5, 0, 0, 0, 5, 10, 0, 5, 0, 0, 5],\n",
    "                  [5, 5, 0, 10, 0, 5, 5, 10, 10, 10, 5, 5, 50, 10],\n",
    "                  [5, 5, 0, 15, 10, 5, 25, 15, 65, 15, 0, 50, 0],\n",
    "                  [15, 5, 15, 10, 10, 5, 10, 5, 10, 20, 5, 10, 25, 15],\n",
    "                  [60, 5, 10, 0, 0, 15, 10, 0, 5, 5, 15, 10, 0, 10, 0, 80],\n",
    "                  [10, 0, 15, 0, 10, 0, 0, 5, 0, 5, 5, 0, 10, 5, 10, 15, 0, 50],\n",
    "                  [5, 10, 0, 0, 10, 0, 5, 5, 5, 0, 5, 0, 0, 5, 5, 5],\n",
    "                  [15, 45, 45, 90, 15, 15, 45, 80, 15],\n",
    "                  [15, 10, 45, 5, 5, 10, 75, 15, 15, 15, 0, 20],\n",
    "                  [0, 0, 0, 0, 0, 0, 0, 0, 0, 0, 0, 0, 15, 0, 10, 0],\n",
    "                  [5, 10, 40, 10, 5, 5, 10, 5, 15, 5, 5, 30, 5, 70],\n",
    "                  [15, 5, 85, 80, 45, 10, 5, 0, 90],\n",
    "                  [20, 0, 15, 5, 0, 5, 5, 5, 0, 5, 0, 0, 5, 10, 10, 5, 15, 5, 5]])"
   ]
  },
  {
   "cell_type": "markdown",
   "metadata": {},
   "source": [
    "##### Defining first and third segment"
   ]
  },
  {
   "cell_type": "code",
   "execution_count": 17,
   "metadata": {},
   "outputs": [],
   "source": [
    "newlist = []\n",
    "\n",
    "for i in ScoreA:\n",
    "    rendA1 = i[0:(round(len(i)/3))]\n",
    "    newlist.append(rendA1)\n",
    "    \n",
    "PerformanceA1 = np.array(newlist)"
   ]
  },
  {
   "cell_type": "code",
   "execution_count": 18,
   "metadata": {},
   "outputs": [
    {
     "data": {
      "text/plain": [
       "[20.0,\n",
       " 16.0,\n",
       " 5.0,\n",
       " 4.0,\n",
       " 6.25,\n",
       " 11.0,\n",
       " 15.0,\n",
       " 5.833333333333333,\n",
       " 5.0,\n",
       " 35.0,\n",
       " 18.75,\n",
       " 0.0,\n",
       " 14.0,\n",
       " 35.0,\n",
       " 7.5]"
      ]
     },
     "execution_count": 18,
     "metadata": {},
     "output_type": "execute_result"
    }
   ],
   "source": [
    "PerformanceMA1 = []\n",
    "\n",
    "for i in PerformanceA1:\n",
    "    i = np.sum(i) / len(i)\n",
    "    PerformanceMA1.append(i)\n",
    "\n",
    "PerformanceMA1"
   ]
  },
  {
   "cell_type": "code",
   "execution_count": 19,
   "metadata": {},
   "outputs": [],
   "source": [
    "newlist2 = []\n",
    "\n",
    "for i in ScoreA:\n",
    "    rendA3 = i[-(round(len(i)/3)):]\n",
    "    newlist2.append(rendA3)\n",
    "    \n",
    "PerformanceA3 = np.array(newlist2)"
   ]
  },
  {
   "cell_type": "code",
   "execution_count": 20,
   "metadata": {},
   "outputs": [
    {
     "data": {
      "text/plain": [
       "[53.75,\n",
       " 28.0,\n",
       " 2.0,\n",
       " 16.0,\n",
       " 16.25,\n",
       " 15.0,\n",
       " 20.0,\n",
       " 15.0,\n",
       " 3.0,\n",
       " 46.666666666666664,\n",
       " 12.5,\n",
       " 5.0,\n",
       " 23.0,\n",
       " 31.666666666666668,\n",
       " 8.333333333333334]"
      ]
     },
     "execution_count": 20,
     "metadata": {},
     "output_type": "execute_result"
    }
   ],
   "source": [
    "PerformanceMA3 = []\n",
    "\n",
    "for i in PerformanceA3:\n",
    "    i = np.sum(i) / len(i)\n",
    "    PerformanceMA3.append(i)\n",
    "\n",
    "PerformanceMA3"
   ]
  },
  {
   "cell_type": "markdown",
   "metadata": {},
   "source": [
    "##### Normality Test in first and third segment of trials of Low Floor group"
   ]
  },
  {
   "cell_type": "code",
   "execution_count": 21,
   "metadata": {},
   "outputs": [
    {
     "name": "stdout",
     "output_type": "stream",
     "text": [
      "(0.8720821142196655, 0.03620605915784836)\n",
      "(0.8982687592506409, 0.08955461531877518)\n"
     ]
    }
   ],
   "source": [
    "normalityPerformanceA1 = shapiro(PerformanceMA1)\n",
    "normalityPerformanceA3 = shapiro(PerformanceMA3)\n",
    "print(normalityPerformanceA1)\n",
    "print(normalityPerformanceA3)"
   ]
  },
  {
   "cell_type": "markdown",
   "metadata": {},
   "source": [
    "##### Manm-Witney U test to analyze practice in Low Floor\n",
    "\n",
    "No significant difference between first and third segments of Low Floor group. Therefore, there is no practice effect."
   ]
  },
  {
   "cell_type": "code",
   "execution_count": 22,
   "metadata": {},
   "outputs": [
    {
     "name": "stdout",
     "output_type": "stream",
     "text": [
      "Prctice effect in Low Floor: MannwhitneyuResult(statistic=83.0, pvalue=0.11422939071008675)\n"
     ]
    }
   ],
   "source": [
    "LearningA = utest(PerformanceMA1, PerformanceMA3)\n",
    "print(\"Prctice effect in Low Floor: \" + str(LearningA))"
   ]
  },
  {
   "cell_type": "markdown",
   "metadata": {},
   "source": [
    "### Grupo B (High Ceiling) "
   ]
  },
  {
   "cell_type": "code",
   "execution_count": 23,
   "metadata": {},
   "outputs": [],
   "source": [
    "ScoreB = np.array([[5, 5, 0, 0, 0, 0, 0, 5, 0, 0, 0, 0, 15, 10, 0, 5, 0, 0],\n",
    "                  [0, 5, 5, 5, 15, 5, 5, 5, 15, 15, 15, 0, 10, 0, 5, 10, 5, 50],\n",
    "                  [0, 0, 0, 5, 10, 5, 0, 0, 10, 0, 0, 0, 15, 0, 5, 5],\n",
    "                  [0, 0, 0, 0, 10, 5, 5, 15, 0, 80, 0, 0, 0, 0],\n",
    "                  [5, 0, 5, 10, 15, 5, 0, 15, 45, 0, 0, 85],\n",
    "                  [10, 10, 0, 5, 10, 5, 10, 0, 5, 0, 0, 45],\n",
    "                  [25, 10, 10, 10, 10, 30, 10, 15, 20, 5, 10, 5, 10, 10, 0, 40],\n",
    "                  [0, 0, 5, 0, 5, 0, 10, 0, 0, 0, 15, 0, 0, 5, 0, 5, 5],\n",
    "                  [10, 10, 0, 10, 45, 0, 45, 0, 45, 5, 0, 115],\n",
    "                  [5, 10, 0, 5, 0, 0, 0, 15, 10, 0, 10, 55],\n",
    "                  [0, 5, 0, 0, 5, 5, 0, 5, 5, 10, 10, 15, 0, 5, 15, 10],\n",
    "                  [10, 45, 0, 15, 0, 0, 0, 5, 40, 40, 5, 40, 45],\n",
    "                  [10, 0, 0, 0, 10, 0, 10, 0, 0, 5, 10, 10, 5, 5, 0, 10],\n",
    "                  [5, 5, 10, 5, 5, 5, 10, 0, 0, 40, 45, 15, 10, 15],\n",
    "                  [5, 45, 5, 5, 20, 15, 10, 40, 90, 5, 5, 75]])"
   ]
  },
  {
   "cell_type": "markdown",
   "metadata": {},
   "source": [
    "##### Defining first and third segment"
   ]
  },
  {
   "cell_type": "code",
   "execution_count": 24,
   "metadata": {},
   "outputs": [],
   "source": [
    "newlist3 = []\n",
    "\n",
    "for i in ScoreB:\n",
    "    rendB1 = i[0:(round(len(i)/3))]\n",
    "    newlist3.append(rendB1)\n",
    "    \n",
    "PerformanceB1 = np.array(newlist3)"
   ]
  },
  {
   "cell_type": "code",
   "execution_count": 25,
   "metadata": {},
   "outputs": [
    {
     "data": {
      "text/plain": [
       "[1.6666666666666667,\n",
       " 5.833333333333333,\n",
       " 3.0,\n",
       " 2.0,\n",
       " 5.0,\n",
       " 6.25,\n",
       " 13.0,\n",
       " 1.6666666666666667,\n",
       " 7.5,\n",
       " 5.0,\n",
       " 2.0,\n",
       " 17.5,\n",
       " 4.0,\n",
       " 6.0,\n",
       " 15.0]"
      ]
     },
     "execution_count": 25,
     "metadata": {},
     "output_type": "execute_result"
    }
   ],
   "source": [
    "PerformanceMB1 = []\n",
    "\n",
    "for i in PerformanceB1:\n",
    "    i = np.sum(i) / len(i)\n",
    "    PerformanceMB1.append(i)\n",
    "\n",
    "PerformanceMB1"
   ]
  },
  {
   "cell_type": "code",
   "execution_count": 26,
   "metadata": {},
   "outputs": [],
   "source": [
    "newlist4 = []\n",
    "\n",
    "for i in ScoreB:\n",
    "    rendB3 = i[-(round(len(i)/3)):]\n",
    "    newlist4.append(rendB3)\n",
    "    \n",
    "PerformanceB3 = np.array(newlist4)"
   ]
  },
  {
   "cell_type": "code",
   "execution_count": 27,
   "metadata": {},
   "outputs": [
    {
     "data": {
      "text/plain": [
       "[5.0,\n",
       " 13.333333333333334,\n",
       " 5.0,\n",
       " 16.0,\n",
       " 32.5,\n",
       " 12.5,\n",
       " 13.0,\n",
       " 2.5,\n",
       " 41.25,\n",
       " 18.75,\n",
       " 9.0,\n",
       " 32.5,\n",
       " 6.0,\n",
       " 25.0,\n",
       " 43.75]"
      ]
     },
     "execution_count": 27,
     "metadata": {},
     "output_type": "execute_result"
    }
   ],
   "source": [
    "PerformanceMB3 = []\n",
    "\n",
    "for i in PerformanceB3:\n",
    "    i = np.sum(i) / len(i)\n",
    "    PerformanceMB3.append(i)\n",
    "\n",
    "PerformanceMB3"
   ]
  },
  {
   "cell_type": "markdown",
   "metadata": {},
   "source": [
    "##### Normality Test in first and third segment of trials of High Ceiling group"
   ]
  },
  {
   "cell_type": "code",
   "execution_count": 28,
   "metadata": {},
   "outputs": [
    {
     "name": "stdout",
     "output_type": "stream",
     "text": [
      "(0.8314818143844604, 0.009598048403859138)\n",
      "(0.898311972618103, 0.08969055116176605)\n"
     ]
    }
   ],
   "source": [
    "normalityPerformanceB1 = shapiro(PerformanceMB1)\n",
    "normalityPerformanceB3 = shapiro(PerformanceMB3)\n",
    "print(normalityPerformanceB1)\n",
    "print(normalityPerformanceB3)"
   ]
  },
  {
   "cell_type": "markdown",
   "metadata": {},
   "source": [
    "##### Manm-Witney U test to analyze practice in High Ceiling group\n",
    "\n",
    "Significant difference founded between first and third segments of High Ceiling group. Therefore, there is a practice effect."
   ]
  },
  {
   "cell_type": "code",
   "execution_count": 29,
   "metadata": {},
   "outputs": [
    {
     "name": "stdout",
     "output_type": "stream",
     "text": [
      "Practice effect in High Ceiling group: MannwhitneyuResult(statistic=44.0, pvalue=0.002362360235282355)\n"
     ]
    }
   ],
   "source": [
    "LearningB = utest(PerformanceMB1, PerformanceMB3)\n",
    "print(\"Practice effect in High Ceiling group: \" + str(LearningB))"
   ]
  },
  {
   "cell_type": "code",
   "execution_count": 30,
   "metadata": {
    "scrolled": true
   },
   "outputs": [
    {
     "name": "stdout",
     "output_type": "stream",
     "text": [
      "6.361111111111111\n",
      "18.40555555555556\n"
     ]
    },
    {
     "data": {
      "image/png": "[encoded data removed]",
      "text/plain": [
       "<Figure size 432x288 with 1 Axes>"
      ]
     },
     "metadata": {
      "needs_background": "light"
     },
     "output_type": "display_data"
    }
   ],
   "source": [
    "BoxLearningB = [PerformanceMB1, PerformanceMB3]\n",
    "box=plt.boxplot(BoxLearningB, patch_artist=True)\n",
    "plt.xticks([1,2], [\"1º Third\", \"3º Thrid\"])\n",
    "plt.title(\"High Ceiling Improvement\", weight = \"bold\").set_fontsize(\"18\")\n",
    "plt.ylabel(\"Mean Score\").set_fontsize(\"14\")\n",
    "\n",
    "colors = ['firebrick', 'firebrick']\n",
    "for patch, color in zip(box['boxes'], colors):\n",
    "    patch.set_facecolor(color)\n",
    "    \n",
    "plt.savefig('High Ceiling Learning.png')\n",
    "    \n",
    "print(np.mean(PerformanceMB1))\n",
    "print(np.mean(PerformanceMB3))"
   ]
  },
  {
   "cell_type": "markdown",
   "metadata": {},
   "source": [
    "## Game Score in the first segments\n",
    "\n",
    "Let's compare the performance in the first segments in each of the version of BouncingTramp. Unlike the previous analysis of the global performance, now the results will be free of external variables such as tiredness or practise."
   ]
  },
  {
   "cell_type": "code",
   "execution_count": 31,
   "metadata": {},
   "outputs": [
    {
     "name": "stdout",
     "output_type": "stream",
     "text": [
      "Performance in the first segments, between grupos: MannwhitneyuResult(statistic=62.5, pvalue=0.01982928280121895)\n"
     ]
    }
   ],
   "source": [
    "FirstSegments = utest(PerformanceMA1, PerformanceMB1)\n",
    "print(\"Performance in the first segments, between grupos: \" + str(FirstSegments))"
   ]
  },
  {
   "cell_type": "code",
   "execution_count": 32,
   "metadata": {
    "scrolled": true
   },
   "outputs": [
    {
     "name": "stdout",
     "output_type": "stream",
     "text": [
      "Mean performance in segment 1 of Low Floor: 13.222222222222221\n",
      "Mean performance in segment 1 of High Ceiling: 6.361111111111111\n"
     ]
    },
    {
     "data": {
      "image/png": "[encoded data removed]",
      "text/plain": [
       "<Figure size 432x288 with 1 Axes>"
      ]
     },
     "metadata": {
      "needs_background": "light"
     },
     "output_type": "display_data"
    }
   ],
   "source": [
    "uScoreTercio1 = [PerformanceMA1, PerformanceMB1]\n",
    "box=plt.boxplot(uScoreTercio1, patch_artist=True)\n",
    "plt.xticks([1,2], [\"Low Floor\", \"High Ceiling\"])\n",
    "plt.title(\"Game Score (first third)\", weight = \"bold\").set_fontsize(\"18\")\n",
    "plt.ylabel(\"Mean Score\").set_fontsize(\"14\")\n",
    "\n",
    "colors = ['yellowgreen', 'firebrick']\n",
    "for patch, color in zip(box['boxes'], colors):\n",
    "    patch.set_facecolor(color)\n",
    "\n",
    "plt.savefig('Game Score (first third).png')\n",
    "\n",
    "print(\"Mean performance in segment 1 of Low Floor: \" + str(np.mean(PerformanceMA1)))\n",
    "print(\"Mean performance in segment 1 of High Ceiling: \" + str(np.mean(PerformanceMB1)))"
   ]
  },
  {
   "cell_type": "markdown",
   "metadata": {},
   "source": [
    "### Game Score in the third segments\n",
    "However, the score in the third segments becomes equal for both groups. This is due to the practice along the trails in the High Ceiling version, since users playing the Low Floor version do not need the practice to play.\n",
    "Moreover, players in the Low Floor version could get tired due to keep playing the Exergame longer, while players in High Ceiling version can rest between trials."
   ]
  },
  {
   "cell_type": "code",
   "execution_count": 33,
   "metadata": {
    "scrolled": true
   },
   "outputs": [
    {
     "name": "stdout",
     "output_type": "stream",
     "text": [
      "Performance in the third segments, between grupos: MannwhitneyuResult(statistic=107.0, pvalue=0.41778035938861174)\n",
      "Mean performance in segment 3 of Low Floor: 19.744444444444444\n",
      "Mean performance in segment 3 of Low Floor: 18.40555555555556\n"
     ]
    }
   ],
   "source": [
    "ThirdSegments = utest(PerformanceMA3, PerformanceMB3)\n",
    "print(\"Performance in the third segments, between grupos: \" + str(ThirdSegments))\n",
    "print(\"Mean performance in segment 3 of Low Floor: \" + str(np.mean(PerformanceMA3)))\n",
    "print(\"Mean performance in segment 3 of Low Floor: \" + str(np.mean(PerformanceMB3)))"
   ]
  },
  {
   "cell_type": "markdown",
   "metadata": {},
   "source": [
    "# Non-significant different dimensions"
   ]
  },
  {
   "cell_type": "code",
   "execution_count": 34,
   "metadata": {},
   "outputs": [
    {
     "data": {
      "image/png": "[encoded data removed]",
      "text/plain": [
       "<Figure size 432x288 with 1 Axes>"
      ]
     },
     "metadata": {
      "needs_background": "light"
     },
     "output_type": "display_data"
    }
   ],
   "source": [
    "labels = ['Immersion', 'Competency', 'Positive Experience']\n",
    "LF_means = [np.mean(mImmersionA), np.mean(mCompetencyA), np.mean(mPosExpA)]\n",
    "HC_means = [np.mean(mImmersionB), np.mean(mCompetencyB), np.mean(mPosExpB)]\n",
    "LF_std = [np.std(mImmersionA), np.std(mCompetencyA), np.std(mPosExpA)]\n",
    "HC_std = [np.std(mImmersionB), np.std(mCompetencyB), np.std(mPosExpB)]\n",
    "\n",
    "\n",
    "x = np.arange(len(labels))  # the label locations\n",
    "width = 0.35  # the width of the bars\n",
    "\n",
    "fig, ax = plt.subplots()\n",
    "rects1 = ax.bar(x - width/2, LF_means, width, label='Low Floor', color = 'yellowgreen', yerr= LF_std, error_kw=dict(lw=0.5, capsize=5, capthick=1))\n",
    "rects2 = ax.bar(x + width/2, HC_means, width, label='Hihg Ceiling', color = 'firebrick', yerr= HC_std, error_kw=dict(lw=0.5, capsize=5, capthick=1))\n",
    "\n",
    "# Add some text for labels, title and custom x-axis tick labels, etc.\n",
    "ax.set_ylabel('Mean Scores').set_fontsize(\"14\")\n",
    "ax.set_title('Non-Significant Different Dimensions', weight = \"bold\").set_fontsize(\"18\")\n",
    "ax.set_xticks(x)\n",
    "ax.set_xticklabels(labels)\n",
    "ax.legend(loc = 'upper center')\n",
    "ax.set_ylim(1,5)\n",
    "\n",
    "\n",
    "def autolabel(rects):\n",
    "    \"\"\"Attach a text label above each bar in *rects*, displaying its height.\"\"\"\n",
    "    for rect in rects:\n",
    "        height = rect.get_height()\n",
    "        ax.annotate('{}'.format(round(height, 2)),\n",
    "                    xy=(rect.get_x() + rect.get_width() / 2, height),\n",
    "                    xytext=(0, 3),  # 3 points vertical offset\n",
    "                    textcoords=\"offset points\",\n",
    "                    ha='center', va='bottom').set_fontsize(\"14\")\n",
    "        \n",
    "autolabel(rects1)\n",
    "autolabel(rects2)\n",
    "\n",
    "fig.tight_layout()\n",
    "\n",
    "plt.savefig('NonSignificant.png')\n",
    "plt.show()\n"
   ]
  }
 ],
 "metadata": {
  "kernelspec": {
   "display_name": "Python 3",
   "language": "python",
   "name": "python3"
  },
  "language_info": {
   "codemirror_mode": {
    "name": "ipython",
    "version": 3
   },
   "file_extension": ".py",
   "mimetype": "text/x-python",
   "name": "python",
   "nbconvert_exporter": "python",
   "pygments_lexer": "ipython3",
   "version": "3.7.3"
  }
 },
 "nbformat": 4,
 "nbformat_minor": 2
}
